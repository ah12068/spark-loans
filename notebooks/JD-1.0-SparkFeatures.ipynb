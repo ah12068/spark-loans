{
 "cells": [
  {
   "cell_type": "markdown",
   "metadata": {},
   "source": [
    "## Imports"
   ]
  },
  {
   "cell_type": "code",
   "execution_count": 1,
   "metadata": {
    "ExecuteTime": {
     "end_time": "2020-05-20T16:01:16.093165Z",
     "start_time": "2020-05-20T16:01:15.912435Z"
    }
   },
   "outputs": [],
   "source": [
    "from pyspark.sql import SparkSession\n",
    "from pyspark.sql import functions as F\n",
    "from pyspark.sql.types import IntegerType, DateType\n",
    "from pyspark.ml.feature import StringIndexer, MinMaxScaler, VectorAssembler\n",
    "from pprint import pprint"
   ]
  },
  {
   "cell_type": "markdown",
   "metadata": {
    "heading_collapsed": true
   },
   "source": [
    "## Variables"
   ]
  },
  {
   "cell_type": "code",
   "execution_count": 2,
   "metadata": {
    "ExecuteTime": {
     "end_time": "2020-05-20T16:01:16.097539Z",
     "start_time": "2020-05-20T16:01:16.095111Z"
    },
    "hidden": true
   },
   "outputs": [],
   "source": [
    "path = f'../data/interim/loans_clean_spark/part-*.csv'"
   ]
  },
  {
   "cell_type": "code",
   "execution_count": 3,
   "metadata": {
    "ExecuteTime": {
     "end_time": "2020-05-20T16:01:16.105222Z",
     "start_time": "2020-05-20T16:01:16.099427Z"
    },
    "hidden": true
   },
   "outputs": [],
   "source": [
    "distinct_count = 'distinct_count'"
   ]
  },
  {
   "cell_type": "code",
   "execution_count": 4,
   "metadata": {
    "ExecuteTime": {
     "end_time": "2020-05-20T16:01:16.110640Z",
     "start_time": "2020-05-20T16:01:16.108217Z"
    },
    "hidden": true
   },
   "outputs": [],
   "source": [
    "Id = ['account_id']\n",
    "target = ['class']"
   ]
  },
  {
   "cell_type": "markdown",
   "metadata": {
    "heading_collapsed": true
   },
   "source": [
    "## Spark Session"
   ]
  },
  {
   "cell_type": "code",
   "execution_count": 5,
   "metadata": {
    "ExecuteTime": {
     "end_time": "2020-05-20T16:01:18.607948Z",
     "start_time": "2020-05-20T16:01:16.112068Z"
    },
    "hidden": true
   },
   "outputs": [],
   "source": [
    "spark = SparkSession.builder.appName('Features').getOrCreate()"
   ]
  },
  {
   "cell_type": "markdown",
   "metadata": {},
   "source": [
    "## Spark Functions"
   ]
  },
  {
   "cell_type": "code",
   "execution_count": 6,
   "metadata": {
    "ExecuteTime": {
     "end_time": "2020-05-20T16:01:18.625540Z",
     "start_time": "2020-05-20T16:01:18.609509Z"
    },
    "code_folding": [
     0,
     7,
     22,
     29
    ]
   },
   "outputs": [],
   "source": [
    "def get_nuniques(data):\n",
    "    nuniques = data.agg(*(F.countDistinct(F.col(column)).alias(column) for column in data.columns))\n",
    "    nuniques = nuniques.toPandas().transpose()\n",
    "    nuniques.columns = [distinct_count]\n",
    "    \n",
    "    return nuniques\n",
    "\n",
    "def binarize(data, column):\n",
    "    output_name = f'binary_{column}'\n",
    "    \n",
    "    encoder = StringIndexer(\n",
    "    inputCol=column,\n",
    "    outputCol=output_name\n",
    "    )\n",
    "    \n",
    "    model = encoder.fit(data)\n",
    "    binarized_data = model.transform(data)\n",
    "    \n",
    "    binarized_data = binarized_data.drop(column)\n",
    "    \n",
    "    return binarized_data\n",
    "\n",
    "def create_dummies(data, identifier, column):\n",
    "    categories = data.select(column).distinct().rdd.flatMap(lambda x: x).collect()\n",
    "    \n",
    "    exprs = [F.when(F.col(column) == category, 1).otherwise(0).alias(f'{column}_{category}') for category in categories]\n",
    "    \n",
    "    return data.select(identifier, *exprs)\n",
    "\n",
    "def min_max_scale(data, column):\n",
    "    feature_name = f'feature_{column}'\n",
    "    feature_assembler = VectorAssembler(\n",
    "        inputCols=[column],\n",
    "        outputCol=feature_name\n",
    "    )\n",
    "    scaler = MinMaxScaler(\n",
    "        inputCol=feature_name,\n",
    "        outputCol=f'scaled_{column}'\n",
    "    )\n",
    "    assembler = feature_assembler.transform(data)\n",
    "    model = scaler.fit(assembler)\n",
    "    encoded_data = model.transform(assembler)\n",
    "    encoded_data = encoded_data.drop(*[column,feature_name])\n",
    "    \n",
    "    return encoded_data"
   ]
  },
  {
   "cell_type": "markdown",
   "metadata": {
    "heading_collapsed": true
   },
   "source": [
    "## Read data"
   ]
  },
  {
   "cell_type": "code",
   "execution_count": 7,
   "metadata": {
    "ExecuteTime": {
     "end_time": "2020-05-20T16:01:21.848158Z",
     "start_time": "2020-05-20T16:01:18.626987Z"
    },
    "code_folding": [
     0
    ],
    "hidden": true
   },
   "outputs": [],
   "source": [
    "data = spark.read.csv(\n",
    "    path,\n",
    "    inferSchema=True,\n",
    "    header=True\n",
    ")"
   ]
  },
  {
   "cell_type": "code",
   "execution_count": 8,
   "metadata": {
    "ExecuteTime": {
     "end_time": "2020-05-20T16:01:21.867904Z",
     "start_time": "2020-05-20T16:01:21.850342Z"
    },
    "hidden": true
   },
   "outputs": [
    {
     "name": "stdout",
     "output_type": "stream",
     "text": [
      "root\n",
      " |-- account_id: integer (nullable = true)\n",
      " |-- installment: double (nullable = true)\n",
      " |-- loan_amount: double (nullable = true)\n",
      " |-- interest_rate: double (nullable = true)\n",
      " |-- term: integer (nullable = true)\n",
      " |-- purpose: string (nullable = true)\n",
      " |-- home_ownership: string (nullable = true)\n",
      " |-- annual_income: integer (nullable = true)\n",
      " |-- employment_length: string (nullable = true)\n",
      " |-- public_records: double (nullable = true)\n",
      " |-- delinquency_2y: double (nullable = true)\n",
      " |-- inquiries_6m: string (nullable = true)\n",
      " |-- open_accounts: double (nullable = true)\n",
      " |-- debt_to_income: double (nullable = true)\n",
      " |-- credit_card_usage: double (nullable = true)\n",
      " |-- credit_card_balance: double (nullable = true)\n",
      " |-- total_current_balance: double (nullable = true)\n",
      " |-- nr_accounts: double (nullable = true)\n",
      " |-- credit_score: integer (nullable = true)\n",
      " |-- credit_age_years: integer (nullable = true)\n",
      " |-- class: integer (nullable = true)\n",
      "\n"
     ]
    }
   ],
   "source": [
    "data.printSchema()"
   ]
  },
  {
   "cell_type": "markdown",
   "metadata": {},
   "source": [
    "## Create Features"
   ]
  },
  {
   "cell_type": "code",
   "execution_count": 9,
   "metadata": {
    "ExecuteTime": {
     "end_time": "2020-05-20T16:01:25.547047Z",
     "start_time": "2020-05-20T16:01:21.871504Z"
    }
   },
   "outputs": [],
   "source": [
    "nuniques = data.agg(*(F.countDistinct(F.col(column)).alias(column) for column in data.columns)).toPandas().transpose()\n",
    "nuniques.columns = [distinct_count]\n",
    "\n",
    "binary_vars = [var for var in nuniques[nuniques.values == 2].index if var not in target]\n",
    "categorical_vars = [var for var in nuniques[nuniques.values <=5].index if var not in target+binary_vars]\n",
    "numerical_vars = [var for var in data.columns if var not in Id + target + categorical_vars + binary_vars]"
   ]
  },
  {
   "cell_type": "code",
   "execution_count": 10,
   "metadata": {
    "ExecuteTime": {
     "end_time": "2020-05-20T16:01:26.473826Z",
     "start_time": "2020-05-20T16:01:25.548847Z"
    },
    "code_folding": [
     0
    ]
   },
   "outputs": [],
   "source": [
    "for column in binary_vars:\n",
    "    data = binarize(data, column)"
   ]
  },
  {
   "cell_type": "code",
   "execution_count": 11,
   "metadata": {
    "ExecuteTime": {
     "end_time": "2020-05-20T16:01:37.476483Z",
     "start_time": "2020-05-20T16:01:26.475075Z"
    },
    "code_folding": [
     0
    ],
    "scrolled": false
   },
   "outputs": [],
   "source": [
    "for column in categorical_vars:\n",
    "    dummy_var = create_dummies(data, Id[0], column)\n",
    "    \n",
    "    data = data.join(dummy_var, data[Id[0]] == dummy_var[Id[0]])\n",
    "    data = data.drop(dummy_var[Id[0]])\n",
    "    data = data.drop(column)"
   ]
  },
  {
   "cell_type": "code",
   "execution_count": 12,
   "metadata": {
    "ExecuteTime": {
     "end_time": "2020-05-20T16:02:09.278422Z",
     "start_time": "2020-05-20T16:01:37.477776Z"
    },
    "code_folding": [],
    "scrolled": true
   },
   "outputs": [
    {
     "name": "stdout",
     "output_type": "stream",
     "text": [
      "+-----+-----------+-------------+--------------------------+-------------------+------------------+--------------------+-----------------------+-------------------+----------------------+------------------------+----------------------+-----------------------+----------------------+----------+----------------------+--------------------------+-----------------------+--------------------+--------------------+--------------------+--------------------+---------------------+---------------------+--------------------+---------------------+------------------------+--------------------------+----------------------------+--------------------+--------------------+-----------------------+\n",
      "|class|binary_term|purpose_other|purpose_debt_consolidation|purpose_credit_card|home_ownership_own|home_ownership_other|home_ownership_mortgage|home_ownership_rent|employment_length_7to9|employment_length_10plus|employment_length_1to3|employment_length_less1|employment_length_4to6|account_id|inquiries_6m_1_inquiry|inquiries_6m_2plus_inquiry|inquiries_6m_no_inquiry|  scaled_installment|  scaled_loan_amount|scaled_interest_rate|scaled_annual_income|scaled_public_records|scaled_delinquency_2y|scaled_open_accounts|scaled_debt_to_income|scaled_credit_card_usage|scaled_credit_card_balance|scaled_total_current_balance|  scaled_nr_accounts| scaled_credit_score|scaled_credit_age_years|\n",
      "+-----+-----------+-------------+--------------------------+-------------------+------------------+--------------------+-----------------------+-------------------+----------------------+------------------------+----------------------+-----------------------+----------------------+----------+----------------------+--------------------------+-----------------------+--------------------+--------------------+--------------------+--------------------+---------------------+---------------------+--------------------+---------------------+------------------------+--------------------------+----------------------------+--------------------+--------------------+-----------------------+\n",
      "|    0|        0.0|            1|                         0|                  0|                 0|                   0|                      1|                  0|                     0|                       1|                     0|                      0|                     0|    442823|                     0|                         0|                      1|[0.08545305441256...|[0.09411764705882...|[0.26446979298690...|[0.00392278941709...|                [0.0]|                [0.0]|[0.09333333333333...| [0.38659432971648...|    [0.09122492435279...|      [0.00812612647754...|        [0.01274887569846...|[0.04054054054054...|[0.5057012542759407]|   [0.18181818181818...|\n",
      "|    0|        0.0|            1|                         0|                  0|                 0|                   0|                      0|                  1|                     0|                       0|                     1|                      0|                     0|    446311|                     1|                         0|                      0|[0.3435602681782867]|[0.4117647058823529]|[0.2775665399239544]|[0.00973692373172...|                [0.0]|                [0.0]|              [0.08]| [0.07087854392719...|    [0.00325002801748...|      [3.16647029196921...|        [0.00884566375477...|[0.0472972972972973]|[0.6391106043329533]|   [0.16666666666666...|\n",
      "|    0|        0.0|            0|                         1|                  0|                 1|                   0|                      0|                  0|                     0|                       0|                     0|                      0|                     1|    448261|                     0|                         0|                      1|[0.14329698155554...|[0.1588235294117647]|[0.37135614702154...|[0.00574408450360...|                [0.0]|                [0.0]|              [0.08]| [0.2808890444522226]|    [0.10142328813179...|      [0.00513920422930...|        [0.01080176968274...|[0.13513513513513...|[0.5592930444697833]|   [0.18181818181818...|\n",
      "|    0|        0.0|            0|                         1|                  0|                 0|                   0|                      0|                  1|                     0|                       0|                     0|                      1|                     0|    454238|                     0|                         0|                      1| [0.180056398008805]|[0.20588235294117...|[0.3312209547950993]|[0.00644458261380...|                [0.0]|                [0.0]|              [0.04]| [0.3414420721036052]|    [0.05704359520340...|      [0.0045523746806282]|        [0.01035689902023...|[0.14189189189189...|[0.5188141391106044]|   [0.24242424242424...|\n",
      "|    0|        0.0|            0|                         1|                  0|                 0|                   0|                      0|                  1|                     0|                       1|                     0|                      0|                     0|    455851|                     0|                         1|                      0|[0.2946076597703795]|[0.3235294117647059]|[0.5044359949302916]|[0.00935893495146...|                [0.0]|                [0.0]|[0.05333333333333...| [0.04742737136856...|    [0.03743135716687...|      [0.00201059390821...|        [0.00926628465372...|[0.19594594594594...|[0.7867730900798175]|   [0.30303030303030...|\n",
      "|    0|        0.0|            1|                         0|                  0|                 0|                   0|                      0|                  1|                     1|                       0|                     0|                      0|                     0|    460313|                     1|                         0|                      0|[0.1066238885851581]|[0.11764705882352...|[0.3177017321504014]|[0.00364259017302...|                [0.0]|                [0.0]|              [0.04]| [0.04550227511375...|    [0.00313795808584...|      [4.15312407859729...|        [0.01066114605382...|[0.02027027027027...|[0.5285062713797035]|   [0.24242424242424...|\n",
      "|    0|        0.0|            1|                         0|                  0|                 0|                   0|                      0|                  1|                     0|                       0|                     1|                      0|                     0|    477485|                     0|                         1|                      0|[0.10445141426639...|[0.11764705882352...|[0.26446979298690...|[0.00616438336972...|                [0.0]|                [0.0]|[0.05333333333333...| [0.00665033251662...|    [0.00874145466771...|      [3.07468854437590...|        [0.01060239662663...|[0.03378378378378...|[0.5096921322690992]|   [0.19696969696969...|\n",
      "|    0|        0.0|            1|                         0|                  0|                 0|                   0|                      0|                  1|                     0|                       0|                     0|                      1|                     0|    481244|                     0|                         1|                      0|[0.03604005409604...|[0.03235294117647...|[0.2910857625686524]|[0.00413293885015...|                [0.0]|                [0.0]|              [0.04]| [0.00682534126706...|    [0.01927602824162...|      [3.26398839878710...|        [0.00937378360560...|[0.0472972972972973]|[0.41961231470923...|   [0.13636363636363...|\n",
      "|    0|        0.0|            0|                         1|                  0|                 0|                   0|                      1|                  0|                     1|                       0|                     0|                      0|                     0|    482726|                     0|                         0|                      1|[0.5821296003222743]|[0.7058823529411765]|[0.2775665399239544]|[0.00952677429866...|                [0.0]|                [0.0]|              [0.12]| [0.09572978648932...|    [0.01950016810489...|      [0.00490229259332...|        [0.00877703942386...|[0.16216216216216...| [0.621436716077537]|   [0.3484848484848485]|\n",
      "|    0|        0.0|            1|                         0|                  0|                 0|                   0|                      0|                  1|                     0|                       0|                     0|                      1|                     0|    491454|                     0|                         1|                      0|[0.15884240209478...|[0.17647058823529...|[0.3844528939585974]|[0.0162515561565518]|                [0.0]|                [0.0]|[0.14666666666666...| [0.25638781939096...|    [0.07923344166760...|      [0.01976405207237...|        [0.01130426478341...|[0.1891891891891892]|[0.34150513112884...|   [0.24242424242424...|\n",
      "|    0|        0.0|            0|                         1|                  0|                 0|                   0|                      0|                  1|                     1|                       0|                     0|                      0|                     0|    500597|                     0|                         0|                      1|[0.08625154662906...|[0.10294117647058...|[0.08787494719053...|[0.01160781408443...|                [0.0]|                [0.0]|[0.09333333333333...| [0.24816240812040...|    [0.01300011206993...|      [0.00301388313659...|        [0.00906741159273...|[0.08783783783783...|[0.4960091220068415]|   [0.24242424242424...|\n",
      "|    0|        0.0|            1|                         0|                  0|                 0|                   0|                      1|                  0|                     0|                       0|                     0|                      0|                     1|    514041|                     0|                         0|                      1|[0.11745748568468...|[0.1323529411764706]|[0.2898183354457119]|[0.01302926484964...|                [0.0]|                [0.0]|[0.25333333333333...| [0.25813790689534...|    [0.07923344166760...|      [0.02089640938330...|        [0.01138138903145...|[0.2702702702702703]|[0.6379703534777651]|   [0.3787878787878788]|\n",
      "|    0|        0.0|            0|                         0|                  1|                 0|                   0|                      1|                  0|                     1|                       0|                     0|                      0|                     0|    519954|                     1|                         0|                      0|[0.3990734612839179]|[0.4632352941176471]|[0.3776932826362484]|[0.00616438336972...|                [0.0]| [0.03448275862068...|[0.09333333333333...| [0.40812040602030...|    [0.06163846240053...|      [0.01210773341532...|        [0.00988377863315...|[0.20270270270270...|[0.5843785632839225]|   [0.18181818181818...|\n",
      "|    0|        0.0|            1|                         0|                  0|                 0|                   0|                      0|                  1|                     0|                       0|                     0|                      0|                     1|    520612|                     0|                         1|                      0|[0.05583690616637...|[0.05294117647058...|[0.42205323193916...|[0.00728518034604...|                [0.0]|                [0.0]|[0.13333333333333...| [0.41109555477773...|    [0.11038888266278...|      [0.01208995070172...|        [0.00954378194812...|[0.0945945945945946]|[0.5285062713797035]|   [0.21212121212121...|\n",
      "|    0|        0.0|            0|                         0|                  1|                 0|                   0|                      1|                  0|                     0|                       0|                     0|                      0|                     1|    521414|                     0|                         1|                      0|[0.3329137052916295]|[0.38235294117647...|[0.3924799324038868]|[0.06668742009067...|                [0.0]|                [0.0]|[0.06666666666666...| [0.03657682884144...|    [0.10702678471366...|      [0.01139699850739...|        [0.00982277922790...|[0.16891891891891...|[0.48517673888255...|   [0.21212121212121...|\n",
      "|    0|        0.0|            0|                         1|                  0|                 0|                   0|                      1|                  0|                     0|                       0|                     1|                      0|                     0|    523379|                     0|                         0|                      1|[0.5039564929646361]|[0.5882352941176471]|[0.3776932826362484]|[0.00798567845623...|                [0.0]|                [0.0]|[0.26666666666666...| [0.32989149457472...|    [0.03911240614143...|      [0.01033691932269...|        [0.00940315831920...|[0.3716216216216216]|[0.6590649942987458]|   [0.2727272727272727]|\n",
      "|    0|        0.0|            0|                         1|                  0|                 0|                   0|                      0|                  1|                     0|                       1|                     0|                      0|                     0|    524036|                     0|                         0|                      1|[0.2192328719822749]|[0.25588235294117...|[0.3046049852133502]|[0.00924657505458...|                [0.0]|                [0.0]|[0.09333333333333...| [0.17308365418270...|    [0.05110388882662...|      [0.01401220467788...|        [0.00915166077130...|[0.10135135135135...|[0.5307867730900798]|   [0.3333333333333333]|\n",
      "|    0|        0.0|            0|                         0|                  1|                 0|                   0|                      1|                  0|                     0|                       0|                     0|                      0|                     1|    534278|                     1|                         0|                      0|[0.05721808189221...|[0.05882352941176...|[0.2750316856780735]|[0.01106787014109...|                [0.0]|                [0.0]|[0.13333333333333...| [0.20493524676233...|    [0.07273338563263...|      [0.01026808301200...|        [0.00996740281782...|[0.16891891891891...|[0.6083238312428735]|   [0.36363636363636...|\n",
      "|    0|        0.0|            1|                         0|                  0|                 0|                   0|                      0|                  1|                     0|                       0|                     0|                      1|                     0|    537112|                     0|                         0|                      1|[0.3285399821598135]|[0.4117647058823529]|[0.15293620616814...|[0.00504358639341...|                [0.0]|                [0.0]|[0.06666666666666...| [0.3570178508925446]|    [0.01008629384736...|      [0.00219301013155...|        [0.00936353370554...|[0.10810810810810...|[0.6282782212086659]|   [0.30303030303030...|\n",
      "|    0|        0.0|            0|                         1|                  0|                 0|                   0|                      0|                  1|                     0|                       0|                     1|                      0|                     0|    539958|                     0|                         0|                      1|[0.00845250769717...|               [0.0]|[0.13814955640050...|[0.00448318790525...|                [0.0]|                [0.0]|              [0.08]| [0.03325166258312...|    [0.00246553849602...|      [3.45902461242288...|        [0.00980190443143...|[0.14864864864864...|[0.31356898517673...|   [0.15151515151515...|\n",
      "+-----+-----------+-------------+--------------------------+-------------------+------------------+--------------------+-----------------------+-------------------+----------------------+------------------------+----------------------+-----------------------+----------------------+----------+----------------------+--------------------------+-----------------------+--------------------+--------------------+--------------------+--------------------+---------------------+---------------------+--------------------+---------------------+------------------------+--------------------------+----------------------------+--------------------+--------------------+-----------------------+\n",
      "only showing top 20 rows\n",
      "\n"
     ]
    }
   ],
   "source": [
    "for var in numerical_vars:\n",
    "    data = min_max_scale(data, var)"
   ]
  },
  {
   "cell_type": "code",
   "execution_count": 14,
   "metadata": {
    "ExecuteTime": {
     "end_time": "2020-05-20T16:02:09.303829Z",
     "start_time": "2020-05-20T16:02:09.286621Z"
    }
   },
   "outputs": [],
   "source": [
    "data = data.drop(*Id)"
   ]
  },
  {
   "cell_type": "code",
   "execution_count": 15,
   "metadata": {
    "ExecuteTime": {
     "end_time": "2020-05-20T16:02:26.376851Z",
     "start_time": "2020-05-20T16:02:26.370290Z"
    }
   },
   "outputs": [
    {
     "name": "stdout",
     "output_type": "stream",
     "text": [
      "root\n",
      " |-- class: integer (nullable = true)\n",
      " |-- binary_term: double (nullable = false)\n",
      " |-- purpose_other: integer (nullable = false)\n",
      " |-- purpose_debt_consolidation: integer (nullable = false)\n",
      " |-- purpose_credit_card: integer (nullable = false)\n",
      " |-- home_ownership_own: integer (nullable = false)\n",
      " |-- home_ownership_other: integer (nullable = false)\n",
      " |-- home_ownership_mortgage: integer (nullable = false)\n",
      " |-- home_ownership_rent: integer (nullable = false)\n",
      " |-- employment_length_7to9: integer (nullable = false)\n",
      " |-- employment_length_10plus: integer (nullable = false)\n",
      " |-- employment_length_1to3: integer (nullable = false)\n",
      " |-- employment_length_less1: integer (nullable = false)\n",
      " |-- employment_length_4to6: integer (nullable = false)\n",
      " |-- inquiries_6m_1_inquiry: integer (nullable = false)\n",
      " |-- inquiries_6m_2plus_inquiry: integer (nullable = false)\n",
      " |-- inquiries_6m_no_inquiry: integer (nullable = false)\n",
      " |-- scaled_installment: vector (nullable = true)\n",
      " |-- scaled_loan_amount: vector (nullable = true)\n",
      " |-- scaled_interest_rate: vector (nullable = true)\n",
      " |-- scaled_annual_income: vector (nullable = true)\n",
      " |-- scaled_public_records: vector (nullable = true)\n",
      " |-- scaled_delinquency_2y: vector (nullable = true)\n",
      " |-- scaled_open_accounts: vector (nullable = true)\n",
      " |-- scaled_debt_to_income: vector (nullable = true)\n",
      " |-- scaled_credit_card_usage: vector (nullable = true)\n",
      " |-- scaled_credit_card_balance: vector (nullable = true)\n",
      " |-- scaled_total_current_balance: vector (nullable = true)\n",
      " |-- scaled_nr_accounts: vector (nullable = true)\n",
      " |-- scaled_credit_score: vector (nullable = true)\n",
      " |-- scaled_credit_age_years: vector (nullable = true)\n",
      "\n"
     ]
    }
   ],
   "source": [
    "data.printSchema()"
   ]
  },
  {
   "cell_type": "code",
   "execution_count": 18,
   "metadata": {
    "ExecuteTime": {
     "end_time": "2020-05-20T16:08:34.882098Z",
     "start_time": "2020-05-20T16:08:34.876788Z"
    }
   },
   "outputs": [
    {
     "data": {
      "text/plain": [
       "['binary_term',\n",
       " 'purpose_other',\n",
       " 'purpose_debt_consolidation',\n",
       " 'purpose_credit_card',\n",
       " 'home_ownership_own',\n",
       " 'home_ownership_other',\n",
       " 'home_ownership_mortgage',\n",
       " 'home_ownership_rent',\n",
       " 'employment_length_7to9',\n",
       " 'employment_length_10plus',\n",
       " 'employment_length_1to3',\n",
       " 'employment_length_less1',\n",
       " 'employment_length_4to6',\n",
       " 'inquiries_6m_1_inquiry',\n",
       " 'inquiries_6m_2plus_inquiry',\n",
       " 'inquiries_6m_no_inquiry',\n",
       " 'scaled_installment',\n",
       " 'scaled_loan_amount',\n",
       " 'scaled_interest_rate',\n",
       " 'scaled_annual_income',\n",
       " 'scaled_public_records',\n",
       " 'scaled_delinquency_2y',\n",
       " 'scaled_open_accounts',\n",
       " 'scaled_debt_to_income',\n",
       " 'scaled_credit_card_usage',\n",
       " 'scaled_credit_card_balance',\n",
       " 'scaled_total_current_balance',\n",
       " 'scaled_nr_accounts',\n",
       " 'scaled_credit_score',\n",
       " 'scaled_credit_age_years']"
      ]
     },
     "execution_count": 18,
     "metadata": {},
     "output_type": "execute_result"
    }
   ],
   "source": [
    "[var for var in data.columns if var not in target]"
   ]
  },
  {
   "cell_type": "code",
   "execution_count": 17,
   "metadata": {
    "ExecuteTime": {
     "end_time": "2020-05-20T16:06:48.335275Z",
     "start_time": "2020-05-20T16:06:44.318258Z"
    },
    "collapsed": true
   },
   "outputs": [
    {
     "name": "stdout",
     "output_type": "stream",
     "text": [
      "+-----+-----------+-------------+--------------------------+-------------------+------------------+--------------------+-----------------------+-------------------+----------------------+------------------------+----------------------+-----------------------+----------------------+----------------------+--------------------------+-----------------------+--------------------+--------------------+--------------------+--------------------+---------------------+---------------------+--------------------+---------------------+------------------------+--------------------------+----------------------------+--------------------+--------------------+-----------------------+--------------------+\n",
      "|class|binary_term|purpose_other|purpose_debt_consolidation|purpose_credit_card|home_ownership_own|home_ownership_other|home_ownership_mortgage|home_ownership_rent|employment_length_7to9|employment_length_10plus|employment_length_1to3|employment_length_less1|employment_length_4to6|inquiries_6m_1_inquiry|inquiries_6m_2plus_inquiry|inquiries_6m_no_inquiry|  scaled_installment|  scaled_loan_amount|scaled_interest_rate|scaled_annual_income|scaled_public_records|scaled_delinquency_2y|scaled_open_accounts|scaled_debt_to_income|scaled_credit_card_usage|scaled_credit_card_balance|scaled_total_current_balance|  scaled_nr_accounts| scaled_credit_score|scaled_credit_age_years|            features|\n",
      "+-----+-----------+-------------+--------------------------+-------------------+------------------+--------------------+-----------------------+-------------------+----------------------+------------------------+----------------------+-----------------------+----------------------+----------------------+--------------------------+-----------------------+--------------------+--------------------+--------------------+--------------------+---------------------+---------------------+--------------------+---------------------+------------------------+--------------------------+----------------------------+--------------------+--------------------+-----------------------+--------------------+\n",
      "|    0|        0.0|            1|                         0|                  0|                 0|                   0|                      1|                  0|                     0|                       1|                     0|                      0|                     0|                     0|                         0|                      1|[0.08545305441256...|[0.09411764705882...|[0.26446979298690...|[0.00392278941709...|                [0.0]|                [0.0]|[0.09333333333333...| [0.38659432971648...|    [0.09122492435279...|      [0.00812612647754...|        [0.01274887569846...|[0.04054054054054...|[0.5057012542759407]|   [0.18181818181818...|(30,[1,6,9,15,16,...|\n",
      "|    0|        0.0|            1|                         0|                  0|                 0|                   0|                      0|                  1|                     0|                       0|                     1|                      0|                     0|                     1|                         0|                      0|[0.3435602681782867]|[0.4117647058823529]|[0.2775665399239544]|[0.00973692373172...|                [0.0]|                [0.0]|              [0.08]| [0.07087854392719...|    [0.00325002801748...|      [3.16647029196921...|        [0.00884566375477...|[0.0472972972972973]|[0.6391106043329533]|   [0.16666666666666...|(30,[1,7,10,13,16...|\n",
      "|    0|        0.0|            0|                         1|                  0|                 1|                   0|                      0|                  0|                     0|                       0|                     0|                      0|                     1|                     0|                         0|                      1|[0.14329698155554...|[0.1588235294117647]|[0.37135614702154...|[0.00574408450360...|                [0.0]|                [0.0]|              [0.08]| [0.2808890444522226]|    [0.10142328813179...|      [0.00513920422930...|        [0.01080176968274...|[0.13513513513513...|[0.5592930444697833]|   [0.18181818181818...|(30,[2,4,12,15,16...|\n",
      "|    0|        0.0|            0|                         1|                  0|                 0|                   0|                      0|                  1|                     0|                       0|                     0|                      1|                     0|                     0|                         0|                      1| [0.180056398008805]|[0.20588235294117...|[0.3312209547950993]|[0.00644458261380...|                [0.0]|                [0.0]|              [0.04]| [0.3414420721036052]|    [0.05704359520340...|      [0.0045523746806282]|        [0.01035689902023...|[0.14189189189189...|[0.5188141391106044]|   [0.24242424242424...|(30,[2,7,11,15,16...|\n",
      "|    0|        0.0|            0|                         1|                  0|                 0|                   0|                      0|                  1|                     0|                       1|                     0|                      0|                     0|                     0|                         1|                      0|[0.2946076597703795]|[0.3235294117647059]|[0.5044359949302916]|[0.00935893495146...|                [0.0]|                [0.0]|[0.05333333333333...| [0.04742737136856...|    [0.03743135716687...|      [0.00201059390821...|        [0.00926628465372...|[0.19594594594594...|[0.7867730900798175]|   [0.30303030303030...|(30,[2,7,9,14,16,...|\n",
      "|    0|        0.0|            1|                         0|                  0|                 0|                   0|                      0|                  1|                     1|                       0|                     0|                      0|                     0|                     1|                         0|                      0|[0.1066238885851581]|[0.11764705882352...|[0.3177017321504014]|[0.00364259017302...|                [0.0]|                [0.0]|              [0.04]| [0.04550227511375...|    [0.00313795808584...|      [4.15312407859729...|        [0.01066114605382...|[0.02027027027027...|[0.5285062713797035]|   [0.24242424242424...|(30,[1,7,8,13,16,...|\n",
      "|    0|        0.0|            1|                         0|                  0|                 0|                   0|                      0|                  1|                     0|                       0|                     1|                      0|                     0|                     0|                         1|                      0|[0.10445141426639...|[0.11764705882352...|[0.26446979298690...|[0.00616438336972...|                [0.0]|                [0.0]|[0.05333333333333...| [0.00665033251662...|    [0.00874145466771...|      [3.07468854437590...|        [0.01060239662663...|[0.03378378378378...|[0.5096921322690992]|   [0.19696969696969...|(30,[1,7,10,14,16...|\n",
      "|    0|        0.0|            1|                         0|                  0|                 0|                   0|                      0|                  1|                     0|                       0|                     0|                      1|                     0|                     0|                         1|                      0|[0.03604005409604...|[0.03235294117647...|[0.2910857625686524]|[0.00413293885015...|                [0.0]|                [0.0]|              [0.04]| [0.00682534126706...|    [0.01927602824162...|      [3.26398839878710...|        [0.00937378360560...|[0.0472972972972973]|[0.41961231470923...|   [0.13636363636363...|(30,[1,7,11,14,16...|\n",
      "|    0|        0.0|            0|                         1|                  0|                 0|                   0|                      1|                  0|                     1|                       0|                     0|                      0|                     0|                     0|                         0|                      1|[0.5821296003222743]|[0.7058823529411765]|[0.2775665399239544]|[0.00952677429866...|                [0.0]|                [0.0]|              [0.12]| [0.09572978648932...|    [0.01950016810489...|      [0.00490229259332...|        [0.00877703942386...|[0.16216216216216...| [0.621436716077537]|   [0.3484848484848485]|(30,[2,6,8,15,16,...|\n",
      "|    0|        0.0|            1|                         0|                  0|                 0|                   0|                      0|                  1|                     0|                       0|                     0|                      1|                     0|                     0|                         1|                      0|[0.15884240209478...|[0.17647058823529...|[0.3844528939585974]|[0.0162515561565518]|                [0.0]|                [0.0]|[0.14666666666666...| [0.25638781939096...|    [0.07923344166760...|      [0.01976405207237...|        [0.01130426478341...|[0.1891891891891892]|[0.34150513112884...|   [0.24242424242424...|(30,[1,7,11,14,16...|\n",
      "|    0|        0.0|            0|                         1|                  0|                 0|                   0|                      0|                  1|                     1|                       0|                     0|                      0|                     0|                     0|                         0|                      1|[0.08625154662906...|[0.10294117647058...|[0.08787494719053...|[0.01160781408443...|                [0.0]|                [0.0]|[0.09333333333333...| [0.24816240812040...|    [0.01300011206993...|      [0.00301388313659...|        [0.00906741159273...|[0.08783783783783...|[0.4960091220068415]|   [0.24242424242424...|(30,[2,7,8,15,16,...|\n",
      "|    0|        0.0|            1|                         0|                  0|                 0|                   0|                      1|                  0|                     0|                       0|                     0|                      0|                     1|                     0|                         0|                      1|[0.11745748568468...|[0.1323529411764706]|[0.2898183354457119]|[0.01302926484964...|                [0.0]|                [0.0]|[0.25333333333333...| [0.25813790689534...|    [0.07923344166760...|      [0.02089640938330...|        [0.01138138903145...|[0.2702702702702703]|[0.6379703534777651]|   [0.3787878787878788]|(30,[1,6,12,15,16...|\n",
      "|    0|        0.0|            0|                         0|                  1|                 0|                   0|                      1|                  0|                     1|                       0|                     0|                      0|                     0|                     1|                         0|                      0|[0.3990734612839179]|[0.4632352941176471]|[0.3776932826362484]|[0.00616438336972...|                [0.0]| [0.03448275862068...|[0.09333333333333...| [0.40812040602030...|    [0.06163846240053...|      [0.01210773341532...|        [0.00988377863315...|[0.20270270270270...|[0.5843785632839225]|   [0.18181818181818...|(30,[3,6,8,13,16,...|\n",
      "|    0|        0.0|            1|                         0|                  0|                 0|                   0|                      0|                  1|                     0|                       0|                     0|                      0|                     1|                     0|                         1|                      0|[0.05583690616637...|[0.05294117647058...|[0.42205323193916...|[0.00728518034604...|                [0.0]|                [0.0]|[0.13333333333333...| [0.41109555477773...|    [0.11038888266278...|      [0.01208995070172...|        [0.00954378194812...|[0.0945945945945946]|[0.5285062713797035]|   [0.21212121212121...|(30,[1,7,12,14,16...|\n",
      "|    0|        0.0|            0|                         0|                  1|                 0|                   0|                      1|                  0|                     0|                       0|                     0|                      0|                     1|                     0|                         1|                      0|[0.3329137052916295]|[0.38235294117647...|[0.3924799324038868]|[0.06668742009067...|                [0.0]|                [0.0]|[0.06666666666666...| [0.03657682884144...|    [0.10702678471366...|      [0.01139699850739...|        [0.00982277922790...|[0.16891891891891...|[0.48517673888255...|   [0.21212121212121...|(30,[3,6,12,14,16...|\n",
      "|    0|        0.0|            0|                         1|                  0|                 0|                   0|                      1|                  0|                     0|                       0|                     1|                      0|                     0|                     0|                         0|                      1|[0.5039564929646361]|[0.5882352941176471]|[0.3776932826362484]|[0.00798567845623...|                [0.0]|                [0.0]|[0.26666666666666...| [0.32989149457472...|    [0.03911240614143...|      [0.01033691932269...|        [0.00940315831920...|[0.3716216216216216]|[0.6590649942987458]|   [0.2727272727272727]|(30,[2,6,10,15,16...|\n",
      "|    0|        0.0|            0|                         1|                  0|                 0|                   0|                      0|                  1|                     0|                       1|                     0|                      0|                     0|                     0|                         0|                      1|[0.2192328719822749]|[0.25588235294117...|[0.3046049852133502]|[0.00924657505458...|                [0.0]|                [0.0]|[0.09333333333333...| [0.17308365418270...|    [0.05110388882662...|      [0.01401220467788...|        [0.00915166077130...|[0.10135135135135...|[0.5307867730900798]|   [0.3333333333333333]|(30,[2,7,9,15,16,...|\n",
      "|    0|        0.0|            0|                         0|                  1|                 0|                   0|                      1|                  0|                     0|                       0|                     0|                      0|                     1|                     1|                         0|                      0|[0.05721808189221...|[0.05882352941176...|[0.2750316856780735]|[0.01106787014109...|                [0.0]|                [0.0]|[0.13333333333333...| [0.20493524676233...|    [0.07273338563263...|      [0.01026808301200...|        [0.00996740281782...|[0.16891891891891...|[0.6083238312428735]|   [0.36363636363636...|(30,[3,6,12,13,16...|\n",
      "|    0|        0.0|            1|                         0|                  0|                 0|                   0|                      0|                  1|                     0|                       0|                     0|                      1|                     0|                     0|                         0|                      1|[0.3285399821598135]|[0.4117647058823529]|[0.15293620616814...|[0.00504358639341...|                [0.0]|                [0.0]|[0.06666666666666...| [0.3570178508925446]|    [0.01008629384736...|      [0.00219301013155...|        [0.00936353370554...|[0.10810810810810...|[0.6282782212086659]|   [0.30303030303030...|(30,[1,7,11,15,16...|\n",
      "|    0|        0.0|            0|                         1|                  0|                 0|                   0|                      0|                  1|                     0|                       0|                     1|                      0|                     0|                     0|                         0|                      1|[0.00845250769717...|               [0.0]|[0.13814955640050...|[0.00448318790525...|                [0.0]|                [0.0]|              [0.08]| [0.03325166258312...|    [0.00246553849602...|      [3.45902461242288...|        [0.00980190443143...|[0.14864864864864...|[0.31356898517673...|   [0.15151515151515...|(30,[2,7,10,15,16...|\n",
      "+-----+-----------+-------------+--------------------------+-------------------+------------------+--------------------+-----------------------+-------------------+----------------------+------------------------+----------------------+-----------------------+----------------------+----------------------+--------------------------+-----------------------+--------------------+--------------------+--------------------+--------------------+---------------------+---------------------+--------------------+---------------------+------------------------+--------------------------+----------------------------+--------------------+--------------------+-----------------------+--------------------+\n",
      "only showing top 20 rows\n",
      "\n"
     ]
    }
   ],
   "source": [
    "features = VectorAssembler(\n",
    "    inputCols = [var for var in data.columns if var not in target],\n",
    "    outputCol = f'features'\n",
    ")\n",
    "output = features.transform(data)\n",
    "output.show()"
   ]
  }
 ],
 "metadata": {
  "kernelspec": {
   "display_name": "Python 3",
   "language": "python",
   "name": "python3"
  },
  "language_info": {
   "codemirror_mode": {
    "name": "ipython",
    "version": 3
   },
   "file_extension": ".py",
   "mimetype": "text/x-python",
   "name": "python",
   "nbconvert_exporter": "python",
   "pygments_lexer": "ipython3",
   "version": "3.7.7"
  },
  "latex_envs": {
   "LaTeX_envs_menu_present": true,
   "autoclose": false,
   "autocomplete": true,
   "bibliofile": "biblio.bib",
   "cite_by": "apalike",
   "current_citInitial": 1,
   "eqLabelWithNumbers": true,
   "eqNumInitial": 1,
   "hotkeys": {
    "equation": "Ctrl-E",
    "itemize": "Ctrl-I"
   },
   "labels_anchors": false,
   "latex_user_defs": false,
   "report_style_numbering": false,
   "user_envs_cfg": false
  },
  "varInspector": {
   "cols": {
    "lenName": 16,
    "lenType": 16,
    "lenVar": 40
   },
   "kernels_config": {
    "python": {
     "delete_cmd_postfix": "",
     "delete_cmd_prefix": "del ",
     "library": "var_list.py",
     "varRefreshCmd": "print(var_dic_list())"
    },
    "r": {
     "delete_cmd_postfix": ") ",
     "delete_cmd_prefix": "rm(",
     "library": "var_list.r",
     "varRefreshCmd": "cat(var_dic_list()) "
    }
   },
   "types_to_exclude": [
    "module",
    "function",
    "builtin_function_or_method",
    "instance",
    "_Feature"
   ],
   "window_display": false
  }
 },
 "nbformat": 4,
 "nbformat_minor": 4
}
