{
 "cells": [
  {
   "cell_type": "markdown",
   "metadata": {},
   "source": [
    "## Imports"
   ]
  },
  {
   "cell_type": "code",
   "execution_count": 1,
   "metadata": {
    "ExecuteTime": {
     "end_time": "2020-05-18T15:32:24.715941Z",
     "start_time": "2020-05-18T15:32:24.555735Z"
    }
   },
   "outputs": [],
   "source": [
    "from pyspark.sql import SparkSession\n",
    "from pyspark.sql import functions as F\n",
    "from pyspark.sql.types import IntegerType, DateType\n",
    "from pprint import pprint"
   ]
  },
  {
   "cell_type": "markdown",
   "metadata": {},
   "source": [
    "## Variables"
   ]
  },
  {
   "cell_type": "code",
   "execution_count": 2,
   "metadata": {
    "ExecuteTime": {
     "end_time": "2020-05-18T15:32:24.719652Z",
     "start_time": "2020-05-18T15:32:24.717628Z"
    }
   },
   "outputs": [],
   "source": [
    "path = f'../data/raw/loans_raw.csv'"
   ]
  },
  {
   "cell_type": "markdown",
   "metadata": {
    "heading_collapsed": true
   },
   "source": [
    "## Spark Session"
   ]
  },
  {
   "cell_type": "code",
   "execution_count": 3,
   "metadata": {
    "ExecuteTime": {
     "end_time": "2020-05-18T15:32:27.120315Z",
     "start_time": "2020-05-18T15:32:24.721819Z"
    },
    "hidden": true
   },
   "outputs": [],
   "source": [
    "spark = SparkSession.builder.appName('Loans').getOrCreate()"
   ]
  },
  {
   "cell_type": "markdown",
   "metadata": {},
   "source": [
    "## Spark functions"
   ]
  },
  {
   "cell_type": "code",
   "execution_count": 4,
   "metadata": {
    "ExecuteTime": {
     "end_time": "2020-05-18T15:32:27.136896Z",
     "start_time": "2020-05-18T15:32:27.121887Z"
    },
    "code_folding": [
     0,
     17,
     26
    ]
   },
   "outputs": [],
   "source": [
    "def drop_na_cols(data, pct):\n",
    "    rows = data.count()\n",
    "    null_counts = data.select(\n",
    "        [F.count(\n",
    "            F.when(\n",
    "                F.isnull(col), col)\n",
    "        ).alias(col) for col in data.columns]\n",
    "    )\n",
    "    \n",
    "    null_counts = null_counts.toPandas()\n",
    "    null_counts = (null_counts/rows).ge(pct).all()\n",
    "    null_cols = null_counts[null_counts == True].keys()\n",
    "    \n",
    "    \n",
    "    \n",
    "    return data.select([col for col in data.columns if col not in null_cols])\n",
    "\n",
    "def lower_case_cols(data):\n",
    "    data_dtypes = {col[0]: col[1] for col in data.dtypes}\n",
    "    \n",
    "    for column in data_dtypes.keys():\n",
    "        if data_dtypes[column] == 'string':\n",
    "            data = data.withColumn(column, F.lower(F.col(column)))\n",
    "    \n",
    "    return data\n",
    "    \n",
    "def remove_whitespace(data):\n",
    "    data_dtypes = {col[0]: col[1] for col in data.dtypes}\n",
    "    \n",
    "    for column in data_dtypes.keys():\n",
    "        if data_dtypes[column] == 'string':\n",
    "            data = data.withColumn(column, F.lower(F.col(column)))\n",
    "        \n",
    "    return data\n",
    "\n",
    "def make_col_numeric(data, column):\n",
    "    return data.withColumn(column, data[column].cast(IntegerType()))\n",
    "\n",
    "def truncate_credit_line(data, column):\n",
    "    return data.withColumn(column, F.split(F.col(column), '-')[1])"
   ]
  },
  {
   "cell_type": "markdown",
   "metadata": {
    "heading_collapsed": true
   },
   "source": [
    "## Read data"
   ]
  },
  {
   "cell_type": "code",
   "execution_count": 5,
   "metadata": {
    "ExecuteTime": {
     "end_time": "2020-05-18T15:32:30.646710Z",
     "start_time": "2020-05-18T15:32:27.138310Z"
    },
    "code_folding": [
     0
    ],
    "hidden": true
   },
   "outputs": [],
   "source": [
    "data = spark.read.csv(\n",
    "    path,\n",
    "    inferSchema=True,\n",
    "    header=True\n",
    ")"
   ]
  },
  {
   "cell_type": "code",
   "execution_count": 6,
   "metadata": {
    "ExecuteTime": {
     "end_time": "2020-05-18T15:32:30.668097Z",
     "start_time": "2020-05-18T15:32:30.647891Z"
    },
    "hidden": true,
    "scrolled": false
   },
   "outputs": [
    {
     "name": "stdout",
     "output_type": "stream",
     "text": [
      "root\n",
      " |-- account_id: integer (nullable = true)\n",
      " |-- installment: double (nullable = true)\n",
      " |-- loan_amount: double (nullable = true)\n",
      " |-- interest_rate: double (nullable = true)\n",
      " |-- term: string (nullable = true)\n",
      " |-- purpose: string (nullable = true)\n",
      " |-- issue_date: string (nullable = true)\n",
      " |-- description: string (nullable = true)\n",
      " |-- title: string (nullable = true)\n",
      " |-- home_ownership: string (nullable = true)\n",
      " |-- annual_income: string (nullable = true)\n",
      " |-- employment_length: string (nullable = true)\n",
      " |-- job_title: string (nullable = true)\n",
      " |-- earliest_credit_line: string (nullable = true)\n",
      " |-- public_records: string (nullable = true)\n",
      " |-- last_record_months: string (nullable = true)\n",
      " |-- last_delinquency_months: string (nullable = true)\n",
      " |-- last_derog_months: string (nullable = true)\n",
      " |-- delinquency_2y: string (nullable = true)\n",
      " |-- inquiries_6m: string (nullable = true)\n",
      " |-- open_accounts: string (nullable = true)\n",
      " |-- debt_to_income: string (nullable = true)\n",
      " |-- credit_card_usage: string (nullable = true)\n",
      " |-- credit_card_balance: string (nullable = true)\n",
      " |-- total_current_balance: string (nullable = true)\n",
      " |-- nr_accounts: string (nullable = true)\n",
      " |-- loan_status: string (nullable = true)\n",
      " |-- amount_payed: string (nullable = true)\n",
      " |-- year: string (nullable = true)\n",
      " |-- district: string (nullable = true)\n",
      " |-- postcode_district: string (nullable = true)\n",
      " |-- credit_score: string (nullable = true)\n",
      "\n"
     ]
    }
   ],
   "source": [
    "data.printSchema()"
   ]
  },
  {
   "cell_type": "markdown",
   "metadata": {},
   "source": [
    "## Data Cleansing"
   ]
  },
  {
   "cell_type": "code",
   "execution_count": 7,
   "metadata": {
    "ExecuteTime": {
     "end_time": "2020-05-18T15:32:32.941736Z",
     "start_time": "2020-05-18T15:32:30.669623Z"
    },
    "scrolled": true
   },
   "outputs": [],
   "source": [
    "data = drop_na_cols(data=data, pct=0.5)"
   ]
  },
  {
   "cell_type": "code",
   "execution_count": 8,
   "metadata": {
    "ExecuteTime": {
     "end_time": "2020-05-18T15:32:32.958907Z",
     "start_time": "2020-05-18T15:32:32.943989Z"
    }
   },
   "outputs": [
    {
     "data": {
      "text/plain": [
       "[('account_id', 'int'),\n",
       " ('installment', 'double'),\n",
       " ('loan_amount', 'double'),\n",
       " ('interest_rate', 'double'),\n",
       " ('term', 'string'),\n",
       " ('purpose', 'string'),\n",
       " ('issue_date', 'string'),\n",
       " ('title', 'string'),\n",
       " ('home_ownership', 'string'),\n",
       " ('annual_income', 'string'),\n",
       " ('employment_length', 'string'),\n",
       " ('job_title', 'string'),\n",
       " ('earliest_credit_line', 'string'),\n",
       " ('public_records', 'string'),\n",
       " ('delinquency_2y', 'string'),\n",
       " ('inquiries_6m', 'string'),\n",
       " ('open_accounts', 'string'),\n",
       " ('debt_to_income', 'string'),\n",
       " ('credit_card_usage', 'string'),\n",
       " ('credit_card_balance', 'string'),\n",
       " ('total_current_balance', 'string'),\n",
       " ('nr_accounts', 'string'),\n",
       " ('loan_status', 'string'),\n",
       " ('amount_payed', 'string'),\n",
       " ('year', 'string'),\n",
       " ('district', 'string'),\n",
       " ('postcode_district', 'string'),\n",
       " ('credit_score', 'string')]"
      ]
     },
     "execution_count": 8,
     "metadata": {},
     "output_type": "execute_result"
    }
   ],
   "source": [
    "data.dtypes"
   ]
  },
  {
   "cell_type": "code",
   "execution_count": 9,
   "metadata": {
    "ExecuteTime": {
     "end_time": "2020-05-18T15:32:33.267290Z",
     "start_time": "2020-05-18T15:32:32.960751Z"
    },
    "scrolled": false
   },
   "outputs": [],
   "source": [
    "data = lower_case_cols(data)"
   ]
  },
  {
   "cell_type": "code",
   "execution_count": 10,
   "metadata": {
    "ExecuteTime": {
     "end_time": "2020-05-18T15:32:33.283933Z",
     "start_time": "2020-05-18T15:32:33.268954Z"
    }
   },
   "outputs": [
    {
     "data": {
      "text/plain": [
       "[('account_id', 'int'),\n",
       " ('installment', 'double'),\n",
       " ('loan_amount', 'double'),\n",
       " ('interest_rate', 'double'),\n",
       " ('term', 'string'),\n",
       " ('purpose', 'string'),\n",
       " ('issue_date', 'string'),\n",
       " ('title', 'string'),\n",
       " ('home_ownership', 'string'),\n",
       " ('annual_income', 'string'),\n",
       " ('employment_length', 'string'),\n",
       " ('job_title', 'string'),\n",
       " ('earliest_credit_line', 'string'),\n",
       " ('public_records', 'string'),\n",
       " ('delinquency_2y', 'string'),\n",
       " ('inquiries_6m', 'string'),\n",
       " ('open_accounts', 'string'),\n",
       " ('debt_to_income', 'string'),\n",
       " ('credit_card_usage', 'string'),\n",
       " ('credit_card_balance', 'string'),\n",
       " ('total_current_balance', 'string'),\n",
       " ('nr_accounts', 'string'),\n",
       " ('loan_status', 'string'),\n",
       " ('amount_payed', 'string'),\n",
       " ('year', 'string'),\n",
       " ('district', 'string'),\n",
       " ('postcode_district', 'string'),\n",
       " ('credit_score', 'string')]"
      ]
     },
     "execution_count": 10,
     "metadata": {},
     "output_type": "execute_result"
    }
   ],
   "source": [
    "data.dtypes"
   ]
  },
  {
   "cell_type": "code",
   "execution_count": 11,
   "metadata": {
    "ExecuteTime": {
     "end_time": "2020-05-18T15:32:33.504530Z",
     "start_time": "2020-05-18T15:32:33.289279Z"
    }
   },
   "outputs": [],
   "source": [
    "data = remove_whitespace(data)"
   ]
  },
  {
   "cell_type": "code",
   "execution_count": 12,
   "metadata": {
    "ExecuteTime": {
     "end_time": "2020-05-18T15:32:33.516224Z",
     "start_time": "2020-05-18T15:32:33.506660Z"
    },
    "scrolled": true
   },
   "outputs": [
    {
     "data": {
      "text/plain": [
       "[('account_id', 'int'),\n",
       " ('installment', 'double'),\n",
       " ('loan_amount', 'double'),\n",
       " ('interest_rate', 'double'),\n",
       " ('term', 'string'),\n",
       " ('purpose', 'string'),\n",
       " ('issue_date', 'string'),\n",
       " ('title', 'string'),\n",
       " ('home_ownership', 'string'),\n",
       " ('annual_income', 'string'),\n",
       " ('employment_length', 'string'),\n",
       " ('job_title', 'string'),\n",
       " ('earliest_credit_line', 'string'),\n",
       " ('public_records', 'string'),\n",
       " ('delinquency_2y', 'string'),\n",
       " ('inquiries_6m', 'string'),\n",
       " ('open_accounts', 'string'),\n",
       " ('debt_to_income', 'string'),\n",
       " ('credit_card_usage', 'string'),\n",
       " ('credit_card_balance', 'string'),\n",
       " ('total_current_balance', 'string'),\n",
       " ('nr_accounts', 'string'),\n",
       " ('loan_status', 'string'),\n",
       " ('amount_payed', 'string'),\n",
       " ('year', 'string'),\n",
       " ('district', 'string'),\n",
       " ('postcode_district', 'string'),\n",
       " ('credit_score', 'string')]"
      ]
     },
     "execution_count": 12,
     "metadata": {},
     "output_type": "execute_result"
    }
   ],
   "source": [
    "data.dtypes"
   ]
  },
  {
   "cell_type": "code",
   "execution_count": 13,
   "metadata": {
    "ExecuteTime": {
     "end_time": "2020-05-18T15:32:33.543608Z",
     "start_time": "2020-05-18T15:32:33.517702Z"
    }
   },
   "outputs": [],
   "source": [
    "data = make_col_numeric(data, 'credit_score')"
   ]
  },
  {
   "cell_type": "code",
   "execution_count": 14,
   "metadata": {
    "ExecuteTime": {
     "end_time": "2020-05-18T15:32:33.556290Z",
     "start_time": "2020-05-18T15:32:33.545342Z"
    }
   },
   "outputs": [],
   "source": [
    "data = make_col_numeric(data, 'annual_income')"
   ]
  },
  {
   "cell_type": "code",
   "execution_count": 15,
   "metadata": {
    "ExecuteTime": {
     "end_time": "2020-05-18T15:32:33.622611Z",
     "start_time": "2020-05-18T15:32:33.558015Z"
    },
    "scrolled": false
   },
   "outputs": [],
   "source": [
    "data = truncate_credit_line(data, 'earliest_credit_line')"
   ]
  },
  {
   "cell_type": "code",
   "execution_count": 18,
   "metadata": {
    "ExecuteTime": {
     "end_time": "2020-05-18T15:32:39.806264Z",
     "start_time": "2020-05-18T15:32:39.658530Z"
    },
    "scrolled": true
   },
   "outputs": [
    {
     "name": "stdout",
     "output_type": "stream",
     "text": [
      "+-------------+\n",
      "|annual_income|\n",
      "+-------------+\n",
      "|        85000|\n",
      "|        54000|\n",
      "|        32000|\n",
      "|        58000|\n",
      "|        80800|\n",
      "|       148000|\n",
      "|        45000|\n",
      "|        54000|\n",
      "|        60000|\n",
      "|        27000|\n",
      "|        24000|\n",
      "|        56000|\n",
      "|       100000|\n",
      "|       110000|\n",
      "|        46000|\n",
      "|       125000|\n",
      "|        91000|\n",
      "|        84996|\n",
      "|        42000|\n",
      "|        40000|\n",
      "+-------------+\n",
      "only showing top 20 rows\n",
      "\n"
     ]
    }
   ],
   "source": [
    "data[['annual_income']].show()"
   ]
  },
  {
   "cell_type": "code",
   "execution_count": 17,
   "metadata": {
    "ExecuteTime": {
     "end_time": "2020-05-18T15:32:34.031369Z",
     "start_time": "2020-05-18T15:32:33.860546Z"
    },
    "scrolled": false
   },
   "outputs": [],
   "source": [
    "data.createTempView('df')"
   ]
  }
 ],
 "metadata": {
  "kernelspec": {
   "display_name": "Python 3",
   "language": "python",
   "name": "python3"
  },
  "language_info": {
   "codemirror_mode": {
    "name": "ipython",
    "version": 3
   },
   "file_extension": ".py",
   "mimetype": "text/x-python",
   "name": "python",
   "nbconvert_exporter": "python",
   "pygments_lexer": "ipython3",
   "version": "3.7.7"
  },
  "latex_envs": {
   "LaTeX_envs_menu_present": true,
   "autoclose": false,
   "autocomplete": true,
   "bibliofile": "biblio.bib",
   "cite_by": "apalike",
   "current_citInitial": 1,
   "eqLabelWithNumbers": true,
   "eqNumInitial": 1,
   "hotkeys": {
    "equation": "Ctrl-E",
    "itemize": "Ctrl-I"
   },
   "labels_anchors": false,
   "latex_user_defs": false,
   "report_style_numbering": false,
   "user_envs_cfg": false
  },
  "varInspector": {
   "cols": {
    "lenName": 16,
    "lenType": 16,
    "lenVar": 40
   },
   "kernels_config": {
    "python": {
     "delete_cmd_postfix": "",
     "delete_cmd_prefix": "del ",
     "library": "var_list.py",
     "varRefreshCmd": "print(var_dic_list())"
    },
    "r": {
     "delete_cmd_postfix": ") ",
     "delete_cmd_prefix": "rm(",
     "library": "var_list.r",
     "varRefreshCmd": "cat(var_dic_list()) "
    }
   },
   "types_to_exclude": [
    "module",
    "function",
    "builtin_function_or_method",
    "instance",
    "_Feature"
   ],
   "window_display": false
  }
 },
 "nbformat": 4,
 "nbformat_minor": 4
}
