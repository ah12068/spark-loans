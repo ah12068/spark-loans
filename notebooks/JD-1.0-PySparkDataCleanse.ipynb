{
 "cells": [
  {
   "cell_type": "markdown",
   "metadata": {},
   "source": [
    "## Imports"
   ]
  },
  {
   "cell_type": "code",
   "execution_count": 1,
   "metadata": {
    "ExecuteTime": {
     "end_time": "2020-05-19T11:02:50.375302Z",
     "start_time": "2020-05-19T11:02:50.220552Z"
    }
   },
   "outputs": [],
   "source": [
    "from pyspark.sql import SparkSession\n",
    "from pyspark.sql import functions as F\n",
    "from pyspark.sql.types import IntegerType, DateType\n",
    "from pprint import pprint"
   ]
  },
  {
   "cell_type": "markdown",
   "metadata": {},
   "source": [
    "## Variables"
   ]
  },
  {
   "cell_type": "code",
   "execution_count": 2,
   "metadata": {
    "ExecuteTime": {
     "end_time": "2020-05-19T11:02:50.381229Z",
     "start_time": "2020-05-19T11:02:50.378697Z"
    }
   },
   "outputs": [],
   "source": [
    "path = f'../data/raw/loans_raw.csv'"
   ]
  },
  {
   "cell_type": "markdown",
   "metadata": {
    "heading_collapsed": true
   },
   "source": [
    "## Spark Session"
   ]
  },
  {
   "cell_type": "code",
   "execution_count": 3,
   "metadata": {
    "ExecuteTime": {
     "end_time": "2020-05-19T11:02:52.817254Z",
     "start_time": "2020-05-19T11:02:50.383458Z"
    },
    "hidden": true
   },
   "outputs": [],
   "source": [
    "spark = SparkSession.builder.appName('Loans').getOrCreate()"
   ]
  },
  {
   "cell_type": "markdown",
   "metadata": {},
   "source": [
    "## Spark functions"
   ]
  },
  {
   "cell_type": "code",
   "execution_count": 4,
   "metadata": {
    "ExecuteTime": {
     "end_time": "2020-05-19T11:02:52.833248Z",
     "start_time": "2020-05-19T11:02:52.818856Z"
    },
    "code_folding": [
     0,
     17,
     26,
     35,
     38,
     41,
     92,
     139
    ]
   },
   "outputs": [],
   "source": [
    "def drop_na_cols(data, pct):\n",
    "    rows = data.count()\n",
    "    null_counts = data.select(\n",
    "        [F.count(\n",
    "            F.when(\n",
    "                F.isnull(col), col)\n",
    "        ).alias(col) for col in data.columns]\n",
    "    )\n",
    "    \n",
    "    null_counts = null_counts.toPandas()\n",
    "    null_counts = (null_counts/rows).ge(pct).all()\n",
    "    null_cols = null_counts[null_counts == True].keys()\n",
    "    \n",
    "    \n",
    "    \n",
    "    return data.select([col for col in data.columns if col not in null_cols])\n",
    "\n",
    "def lower_case_cols(data):\n",
    "    data_dtypes = {col[0]: col[1] for col in data.dtypes}\n",
    "    \n",
    "    for column in data_dtypes.keys():\n",
    "        if data_dtypes[column] == 'string':\n",
    "            data = data.withColumn(column, F.lower(F.col(column)))\n",
    "    \n",
    "    return data\n",
    "    \n",
    "def remove_whitespace(data):\n",
    "    data_dtypes = {col[0]: col[1] for col in data.dtypes}\n",
    "    \n",
    "    for column in data_dtypes.keys():\n",
    "        if data_dtypes[column] == 'string':\n",
    "            data = data.withColumn(column, F.lower(F.col(column)))\n",
    "        \n",
    "    return data\n",
    "\n",
    "def make_col_numeric(data, column):\n",
    "    return data.withColumn(column, data[column].cast(IntegerType()))\n",
    "\n",
    "def truncate_credit_line(data, column):\n",
    "    return data.withColumn(column, F.split(F.col(column), '-')[1])\n",
    "\n",
    "def categorise_employment_length(data, spark_session):\n",
    "    name = 'df_el'\n",
    "    data.createTempView(name)\n",
    "    \n",
    "    data = spark_session.sql(\n",
    "    f\"\"\"\n",
    "    \n",
    "    select\n",
    "    account_id,\n",
    "    installment,\n",
    "    loan_amount,\n",
    "    interest_rate,\n",
    "    term,\n",
    "    purpose,\n",
    "    issue_date,\n",
    "    title,\n",
    "    home_ownership,\n",
    "    annual_income,\n",
    "\n",
    "    case when employment_length in ('10+ years') then '10plus'\n",
    "    when employment_length in ('< 1 year') then 'less1'\n",
    "    when employment_length in ('1 year', '2 years', '3 years') then '1to3'\n",
    "    when employment_length in ('4 years', '5 years', '6 years') then '4to6'\n",
    "    when employment_length in ('7 years', '8 years', '9 years') then '7to9'\n",
    "    else null\n",
    "    end as employment_length,\n",
    "\n",
    "    job_title,\n",
    "    earliest_credit_line,\n",
    "    public_records,\n",
    "    delinquency_2y,\n",
    "    inquiries_6m,\n",
    "    open_accounts,\n",
    "    debt_to_income,\n",
    "    credit_card_usage,\n",
    "    credit_card_balance,\n",
    "    total_current_balance,\n",
    "    nr_accounts,\n",
    "    loan_status,\n",
    "    amount_payed,\n",
    "    year,\n",
    "    district,\n",
    "    postcode_district,\n",
    "    credit_score\n",
    "\n",
    "    from {name}\n",
    "    \"\"\"\n",
    "    )\n",
    "    \n",
    "    return data\n",
    "\n",
    "def categorise_home_ownership(data, spark):\n",
    "    name = 'df_ho'\n",
    "    data.createTempView(name)\n",
    "    \n",
    "    data = spark.sql(\n",
    "    f\"\"\"\n",
    "    select\n",
    "    account_id,\n",
    "    installment,\n",
    "    loan_amount,\n",
    "    interest_rate,\n",
    "    term,\n",
    "    purpose,\n",
    "    issue_date,\n",
    "    title,\n",
    "    \n",
    "    case when home_ownership in ('mortgage', 'rent', 'own') then home_ownership\n",
    "    else 'other'\n",
    "    end as home_ownership,\n",
    "    \n",
    "    annual_income,\n",
    "    employment_length,\n",
    "    job_title,\n",
    "    earliest_credit_line,\n",
    "    public_records,\n",
    "    delinquency_2y,\n",
    "    inquiries_6m,\n",
    "    open_accounts,\n",
    "    debt_to_income,\n",
    "    credit_card_usage,\n",
    "    credit_card_balance,\n",
    "    total_current_balance,\n",
    "    nr_accounts,\n",
    "    loan_status,\n",
    "    amount_payed,\n",
    "    year,\n",
    "    district,\n",
    "    postcode_district,\n",
    "    credit_score\n",
    "    \n",
    "    \n",
    "    from {name}\n",
    "    \"\"\"\n",
    "    )\n",
    "    \n",
    "    return data\n",
    "\n",
    "def categorise_inquiry(data, spark):\n",
    "    name = 'df_inq'\n",
    "    data.createTempView(name)\n",
    "    \n",
    "    data = spark.sql(f\"\"\"\n",
    "    select\n",
    "    \n",
    "    account_id,\n",
    "    installment,\n",
    "    loan_amount,\n",
    "    interest_rate,\n",
    "    term,\n",
    "    purpose,\n",
    "    issue_date,\n",
    "    title,\n",
    "    home_ownership,\n",
    "    annual_income,\n",
    "    employment_length,\n",
    "    job_title,\n",
    "    earliest_credit_line,\n",
    "    public_records,\n",
    "    delinquency_2y,\n",
    "    \n",
    "    case when inquiries_6m = 0 then 'no_inquiry'\n",
    "    when inquiries_6m = 1 then '1_inquiry'\n",
    "    else '2plus_inquiry'\n",
    "    end as inquiries_6m,\n",
    "    \n",
    "    open_accounts,\n",
    "    debt_to_income,\n",
    "    credit_card_usage,\n",
    "    credit_card_balance,\n",
    "    total_current_balance,\n",
    "    nr_accounts,\n",
    "    loan_status,\n",
    "    amount_payed,\n",
    "    year,\n",
    "    district,\n",
    "    postcode_district,\n",
    "    credit_score\n",
    "    \n",
    "    from {name}\n",
    "    \"\"\"\n",
    "    )\n",
    "    return data\n",
    "\n",
    "def categorise_purpose(data, spark):\n",
    "    name = 'df_purpose'\n",
    "    data.createTempView(name)\n",
    "    \n",
    "    data = spark.sql(f\"\"\"\n",
    "    select\n",
    "    \n",
    "    account_id,\n",
    "    installment,\n",
    "    loan_amount,\n",
    "    interest_rate,\n",
    "    term,\n",
    "    \n",
    "    case when purpose in ('debt_consolidation', 'credit_card') then purpose\n",
    "    else 'other'\n",
    "    end as purpose,\n",
    "    \n",
    "    issue_date,\n",
    "    title,\n",
    "    home_ownership,\n",
    "    annual_income,\n",
    "    employment_length,\n",
    "    job_title,\n",
    "    earliest_credit_line,\n",
    "    public_records,\n",
    "    delinquency_2y,\n",
    "    inquiries_6m,\n",
    "    open_accounts,\n",
    "    debt_to_income,\n",
    "    credit_card_usage,\n",
    "    credit_card_balance,\n",
    "    total_current_balance,\n",
    "    nr_accounts,\n",
    "    loan_status,\n",
    "    amount_payed,\n",
    "    year,\n",
    "    district,\n",
    "    postcode_district,\n",
    "    credit_score\n",
    "    \n",
    "    from {name}    \n",
    "    \"\"\"\n",
    "    )\n",
    "    \n",
    "    return data"
   ]
  },
  {
   "cell_type": "markdown",
   "metadata": {
    "heading_collapsed": true
   },
   "source": [
    "## Read data"
   ]
  },
  {
   "cell_type": "code",
   "execution_count": 5,
   "metadata": {
    "ExecuteTime": {
     "end_time": "2020-05-19T11:02:56.343203Z",
     "start_time": "2020-05-19T11:02:52.835007Z"
    },
    "code_folding": [],
    "hidden": true
   },
   "outputs": [],
   "source": [
    "data = spark.read.csv(\n",
    "    path,\n",
    "    inferSchema=True,\n",
    "    header=True\n",
    ")"
   ]
  },
  {
   "cell_type": "code",
   "execution_count": 6,
   "metadata": {
    "ExecuteTime": {
     "end_time": "2020-05-19T11:02:56.363150Z",
     "start_time": "2020-05-19T11:02:56.344571Z"
    },
    "hidden": true,
    "scrolled": false
   },
   "outputs": [
    {
     "name": "stdout",
     "output_type": "stream",
     "text": [
      "root\n",
      " |-- account_id: integer (nullable = true)\n",
      " |-- installment: double (nullable = true)\n",
      " |-- loan_amount: double (nullable = true)\n",
      " |-- interest_rate: double (nullable = true)\n",
      " |-- term: string (nullable = true)\n",
      " |-- purpose: string (nullable = true)\n",
      " |-- issue_date: string (nullable = true)\n",
      " |-- description: string (nullable = true)\n",
      " |-- title: string (nullable = true)\n",
      " |-- home_ownership: string (nullable = true)\n",
      " |-- annual_income: string (nullable = true)\n",
      " |-- employment_length: string (nullable = true)\n",
      " |-- job_title: string (nullable = true)\n",
      " |-- earliest_credit_line: string (nullable = true)\n",
      " |-- public_records: string (nullable = true)\n",
      " |-- last_record_months: string (nullable = true)\n",
      " |-- last_delinquency_months: string (nullable = true)\n",
      " |-- last_derog_months: string (nullable = true)\n",
      " |-- delinquency_2y: string (nullable = true)\n",
      " |-- inquiries_6m: string (nullable = true)\n",
      " |-- open_accounts: string (nullable = true)\n",
      " |-- debt_to_income: string (nullable = true)\n",
      " |-- credit_card_usage: string (nullable = true)\n",
      " |-- credit_card_balance: string (nullable = true)\n",
      " |-- total_current_balance: string (nullable = true)\n",
      " |-- nr_accounts: string (nullable = true)\n",
      " |-- loan_status: string (nullable = true)\n",
      " |-- amount_payed: string (nullable = true)\n",
      " |-- year: string (nullable = true)\n",
      " |-- district: string (nullable = true)\n",
      " |-- postcode_district: string (nullable = true)\n",
      " |-- credit_score: string (nullable = true)\n",
      "\n"
     ]
    }
   ],
   "source": [
    "data.printSchema()"
   ]
  },
  {
   "cell_type": "markdown",
   "metadata": {},
   "source": [
    "## Data Cleansing"
   ]
  },
  {
   "cell_type": "code",
   "execution_count": 7,
   "metadata": {
    "ExecuteTime": {
     "end_time": "2020-05-19T11:02:58.431288Z",
     "start_time": "2020-05-19T11:02:56.370081Z"
    },
    "scrolled": true
   },
   "outputs": [],
   "source": [
    "data = drop_na_cols(data=data, pct=0.5)"
   ]
  },
  {
   "cell_type": "code",
   "execution_count": 8,
   "metadata": {
    "ExecuteTime": {
     "end_time": "2020-05-19T11:02:58.450158Z",
     "start_time": "2020-05-19T11:02:58.433344Z"
    }
   },
   "outputs": [
    {
     "data": {
      "text/plain": [
       "[('account_id', 'int'),\n",
       " ('installment', 'double'),\n",
       " ('loan_amount', 'double'),\n",
       " ('interest_rate', 'double'),\n",
       " ('term', 'string'),\n",
       " ('purpose', 'string'),\n",
       " ('issue_date', 'string'),\n",
       " ('title', 'string'),\n",
       " ('home_ownership', 'string'),\n",
       " ('annual_income', 'string'),\n",
       " ('employment_length', 'string'),\n",
       " ('job_title', 'string'),\n",
       " ('earliest_credit_line', 'string'),\n",
       " ('public_records', 'string'),\n",
       " ('delinquency_2y', 'string'),\n",
       " ('inquiries_6m', 'string'),\n",
       " ('open_accounts', 'string'),\n",
       " ('debt_to_income', 'string'),\n",
       " ('credit_card_usage', 'string'),\n",
       " ('credit_card_balance', 'string'),\n",
       " ('total_current_balance', 'string'),\n",
       " ('nr_accounts', 'string'),\n",
       " ('loan_status', 'string'),\n",
       " ('amount_payed', 'string'),\n",
       " ('year', 'string'),\n",
       " ('district', 'string'),\n",
       " ('postcode_district', 'string'),\n",
       " ('credit_score', 'string')]"
      ]
     },
     "execution_count": 8,
     "metadata": {},
     "output_type": "execute_result"
    }
   ],
   "source": [
    "data.dtypes"
   ]
  },
  {
   "cell_type": "code",
   "execution_count": 9,
   "metadata": {
    "ExecuteTime": {
     "end_time": "2020-05-19T11:02:58.672294Z",
     "start_time": "2020-05-19T11:02:58.451879Z"
    },
    "scrolled": false
   },
   "outputs": [],
   "source": [
    "data = lower_case_cols(data)"
   ]
  },
  {
   "cell_type": "code",
   "execution_count": 10,
   "metadata": {
    "ExecuteTime": {
     "end_time": "2020-05-19T11:02:58.684037Z",
     "start_time": "2020-05-19T11:02:58.674556Z"
    }
   },
   "outputs": [
    {
     "data": {
      "text/plain": [
       "[('account_id', 'int'),\n",
       " ('installment', 'double'),\n",
       " ('loan_amount', 'double'),\n",
       " ('interest_rate', 'double'),\n",
       " ('term', 'string'),\n",
       " ('purpose', 'string'),\n",
       " ('issue_date', 'string'),\n",
       " ('title', 'string'),\n",
       " ('home_ownership', 'string'),\n",
       " ('annual_income', 'string'),\n",
       " ('employment_length', 'string'),\n",
       " ('job_title', 'string'),\n",
       " ('earliest_credit_line', 'string'),\n",
       " ('public_records', 'string'),\n",
       " ('delinquency_2y', 'string'),\n",
       " ('inquiries_6m', 'string'),\n",
       " ('open_accounts', 'string'),\n",
       " ('debt_to_income', 'string'),\n",
       " ('credit_card_usage', 'string'),\n",
       " ('credit_card_balance', 'string'),\n",
       " ('total_current_balance', 'string'),\n",
       " ('nr_accounts', 'string'),\n",
       " ('loan_status', 'string'),\n",
       " ('amount_payed', 'string'),\n",
       " ('year', 'string'),\n",
       " ('district', 'string'),\n",
       " ('postcode_district', 'string'),\n",
       " ('credit_score', 'string')]"
      ]
     },
     "execution_count": 10,
     "metadata": {},
     "output_type": "execute_result"
    }
   ],
   "source": [
    "data.dtypes"
   ]
  },
  {
   "cell_type": "code",
   "execution_count": 11,
   "metadata": {
    "ExecuteTime": {
     "end_time": "2020-05-19T11:02:58.858411Z",
     "start_time": "2020-05-19T11:02:58.685558Z"
    }
   },
   "outputs": [],
   "source": [
    "data = remove_whitespace(data)"
   ]
  },
  {
   "cell_type": "code",
   "execution_count": 12,
   "metadata": {
    "ExecuteTime": {
     "end_time": "2020-05-19T11:02:58.875475Z",
     "start_time": "2020-05-19T11:02:58.860142Z"
    },
    "scrolled": true
   },
   "outputs": [
    {
     "data": {
      "text/plain": [
       "[('account_id', 'int'),\n",
       " ('installment', 'double'),\n",
       " ('loan_amount', 'double'),\n",
       " ('interest_rate', 'double'),\n",
       " ('term', 'string'),\n",
       " ('purpose', 'string'),\n",
       " ('issue_date', 'string'),\n",
       " ('title', 'string'),\n",
       " ('home_ownership', 'string'),\n",
       " ('annual_income', 'string'),\n",
       " ('employment_length', 'string'),\n",
       " ('job_title', 'string'),\n",
       " ('earliest_credit_line', 'string'),\n",
       " ('public_records', 'string'),\n",
       " ('delinquency_2y', 'string'),\n",
       " ('inquiries_6m', 'string'),\n",
       " ('open_accounts', 'string'),\n",
       " ('debt_to_income', 'string'),\n",
       " ('credit_card_usage', 'string'),\n",
       " ('credit_card_balance', 'string'),\n",
       " ('total_current_balance', 'string'),\n",
       " ('nr_accounts', 'string'),\n",
       " ('loan_status', 'string'),\n",
       " ('amount_payed', 'string'),\n",
       " ('year', 'string'),\n",
       " ('district', 'string'),\n",
       " ('postcode_district', 'string'),\n",
       " ('credit_score', 'string')]"
      ]
     },
     "execution_count": 12,
     "metadata": {},
     "output_type": "execute_result"
    }
   ],
   "source": [
    "data.dtypes"
   ]
  },
  {
   "cell_type": "code",
   "execution_count": 13,
   "metadata": {
    "ExecuteTime": {
     "end_time": "2020-05-19T11:02:58.895519Z",
     "start_time": "2020-05-19T11:02:58.876930Z"
    }
   },
   "outputs": [],
   "source": [
    "data = make_col_numeric(data, 'credit_score')"
   ]
  },
  {
   "cell_type": "code",
   "execution_count": 14,
   "metadata": {
    "ExecuteTime": {
     "end_time": "2020-05-19T11:02:58.906250Z",
     "start_time": "2020-05-19T11:02:58.896893Z"
    }
   },
   "outputs": [],
   "source": [
    "data = make_col_numeric(data, 'annual_income')"
   ]
  },
  {
   "cell_type": "code",
   "execution_count": 15,
   "metadata": {
    "ExecuteTime": {
     "end_time": "2020-05-19T11:02:58.969227Z",
     "start_time": "2020-05-19T11:02:58.911818Z"
    },
    "scrolled": false
   },
   "outputs": [],
   "source": [
    "data = truncate_credit_line(data, 'earliest_credit_line')"
   ]
  },
  {
   "cell_type": "code",
   "execution_count": 16,
   "metadata": {
    "ExecuteTime": {
     "end_time": "2020-05-19T11:02:59.302785Z",
     "start_time": "2020-05-19T11:02:58.971140Z"
    }
   },
   "outputs": [],
   "source": [
    "data = categorise_employment_length(data, spark)"
   ]
  },
  {
   "cell_type": "code",
   "execution_count": 17,
   "metadata": {
    "ExecuteTime": {
     "end_time": "2020-05-19T11:02:59.374843Z",
     "start_time": "2020-05-19T11:02:59.304673Z"
    },
    "scrolled": false
   },
   "outputs": [],
   "source": [
    "data = categorise_home_ownership(data, spark)"
   ]
  },
  {
   "cell_type": "code",
   "execution_count": 18,
   "metadata": {
    "ExecuteTime": {
     "end_time": "2020-05-19T11:02:59.450251Z",
     "start_time": "2020-05-19T11:02:59.376229Z"
    },
    "scrolled": false
   },
   "outputs": [],
   "source": [
    "data = categorise_inquiry(data, spark)"
   ]
  },
  {
   "cell_type": "code",
   "execution_count": 19,
   "metadata": {
    "ExecuteTime": {
     "end_time": "2020-05-19T11:02:59.513186Z",
     "start_time": "2020-05-19T11:02:59.452383Z"
    }
   },
   "outputs": [],
   "source": [
    "data = categorise_purpose(data, spark)"
   ]
  },
  {
   "cell_type": "code",
   "execution_count": 20,
   "metadata": {
    "ExecuteTime": {
     "end_time": "2020-05-19T11:02:59.885560Z",
     "start_time": "2020-05-19T11:02:59.516653Z"
    },
    "scrolled": false
   },
   "outputs": [
    {
     "name": "stdout",
     "output_type": "stream",
     "text": [
      "+----------+-----------+-----------+-------------+----------+------------------+----------+--------------------+--------------+-------------+-----------------+--------------------+--------------------+--------------+--------------+-------------+-------------+--------------+-----------------+-------------------+---------------------+-----------+-----------+-------------+----+--------------------+-----------------+------------+\n",
      "|account_id|installment|loan_amount|interest_rate|      term|           purpose|issue_date|               title|home_ownership|annual_income|employment_length|           job_title|earliest_credit_line|public_records|delinquency_2y| inquiries_6m|open_accounts|debt_to_income|credit_card_usage|credit_card_balance|total_current_balance|nr_accounts|loan_status| amount_payed|year|            district|postcode_district|credit_score|\n",
      "+----------+-----------+-----------+-------------+----------+------------------+----------+--------------------+--------------+-------------+-----------------+--------------------+--------------------+--------------+--------------+-------------+-------------+--------------+-----------------+-------------------+---------------------+-----------+-----------+-------------+----+--------------------+-----------------+------------+\n",
      "|    125968|      829.1|    25000.0|        11.89| 36 months|debt_consolidation|  aug-2009|debt consolidatio...|          rent|        85000|            less1|                null|                1994|           0.0|           0.0|   no_inquiry|         10.0|         19.48|             52.1|            28854.0|                 null|       42.0| fully paid|     29324.32|2009|           liverpool|              l69|         710|\n",
      "|    128479|       40.5|     1200.0|        13.11| 36 months|debt_consolidation|  mar-2010|               zxcvb|           own|        54000|           10plus|city of beaumont ...|                1985|           0.0|           0.0|   no_inquiry|          5.0|          5.47|             40.4|             2584.0|                 null|       31.0| fully paid|      1457.31|2010|           redbridge|              ig9|         416|\n",
      "|    128650|     366.86|    10800.0|        13.57| 36 months|debt_consolidation|  nov-2009|       nicolechr1978|          rent|        32000|             4to6|state farm insurance|                1996|           0.0|           0.0|    1_inquiry|         14.0|         11.63|             25.6|             3511.0|                 null|       40.0| fully paid|     13195.27|2009|               rugby|             cv21|         354|\n",
      "|    129758|     264.11|     7200.0|        19.05| 36 months|debt_consolidation|  aug-2012|           caminijio|          rent|        58000|             7to9|           arkwright|                1994|           0.0|           0.0|   no_inquiry|          6.0|          2.05|             90.1|             3874.0|             154930.0|       25.0| fully paid|9100.80466265|2012|        west lindsey|             dn21|         697|\n",
      "|    130240|     102.92|     3000.0|        14.26| 36 months|       credit_card|  sep-2009|rejecting new car...|      mortgage|        80800|             1to3|                null|                1998|           0.0|           1.0|   no_inquiry|         13.0|         14.97|             39.5|             4740.0|                 null|       23.0| fully paid|      3703.38|2009|    south derbyshire|             de11|         799|\n",
      "|    132624|     125.13|     4000.0|         7.88| 36 months|       credit_card|  feb-2010|         ilikehorses|      mortgage|       148000|            less1|                null|                1993|           0.0|           0.0|   no_inquiry|         11.0|         16.98|             51.0|            50807.0|                 null|       19.0| fully paid|      4451.17|2010|          manchester|              m21|          96|\n",
      "|    132653|     194.02|     5600.0|        14.96| 36 months|debt_consolidation|  feb-2010|           athomas74|          rent|        45000|             1to3|pension benefit g...|                2001|           1.0|           0.0|   no_inquiry|          5.0|           4.0|             76.8|             3839.0|                 null|        9.0|charged off|       6474.6|2010|        amber valley|              de5|         570|\n",
      "|    133336|     103.08|     3200.0|         9.88| 36 months|debt_consolidation|  apr-2010|      greekgodadonis|          rent|        54000|             4to6|rockwell automati...|                2006|           0.0|           0.0|   no_inquiry|          7.0|          6.51|             51.1|             3198.0|                 null|       11.0| fully paid|      3413.92|2010|               wigan|              wn2|         577|\n",
      "|    136660|     131.22|     4000.0|        11.14| 36 months|             other|  aug-2009|                 djp|      mortgage|        60000|            less1|    infotrieve, inc.|                1995|           0.0|           0.0|   no_inquiry|         14.0|         11.08|             68.6|            24220.0|                 null|       33.0|charged off|       2755.2|2009|               conwy|             ll32|         352|\n",
      "|    137665|      84.12|     2525.0|        12.21| 36 months|debt_consolidation|  feb-2009|credit card conso...|          rent|        27000|             1to3|video monitoring ...|                2001|           0.0|           0.0|    1_inquiry|          5.0|          10.0|             23.0|             5630.0|                 null|        8.0| fully paid|      3027.47|2009|          new forest|             bh25|         534|\n",
      "|    138177|      61.57|     2800.0|        11.49| 60 months|debt_consolidation|  aug-2010|         mark's loan|          rent|        24000|            less1|     the coggins co.|                2000|           1.0|           0.0|   no_inquiry|          7.0|           4.0|             19.5|             2183.0|                 null|       23.0| fully paid|      3140.84|2010|             wrexham|             ll13|         747|\n",
      "|    138737|     316.11|    10000.0|         8.59| 36 months|debt_consolidation|  oct-2009|       lukeanthony85|      mortgage|        56000|             1to3|         genesys pho|                1991|           0.0|           0.0|   no_inquiry|          7.0|         15.49|             16.7|             6068.0|                 null|       49.0| fully paid|     11280.04|2009|           wiltshire|              sp3|         999|\n",
      "|    139397|      92.82|     3000.0|         7.14| 36 months|             other|  feb-2010|     raising capital|      mortgage|       100000|             7to9|    matrix resources|                1998|           0.0|           1.0|   no_inquiry|         14.0|           6.5|              4.8|             3021.0|                 null|       25.0| fully paid|      3341.09|2010|folkestone and hythe|             ct21|         621|\n",
      "|    140235|     476.58|    15000.0|         8.94| 36 months|       credit_card|  sep-2009|      revolving debt|      mortgage|       110000|            less1|                null|                1991|           0.0|           0.0|    1_inquiry|          6.0|          7.07|             52.7|             7586.0|                 null|       19.0| fully paid|     17130.65|2009|              merton|             sw19|         731|\n",
      "|    140784|      268.4|    11200.0|        15.33| 60 months|debt_consolidation|  may-2010|        helioscantra|          rent|        46000|             1to3|witron intergrate...|                2005|           0.0|           0.0|    1_inquiry|          7.0|         17.19|             69.2|             7248.0|                 null|       11.0| fully paid|15896.0477614|2010|          warrington|              wa5|         665|\n",
      "|    141224|     484.85|    15500.0|         7.88| 36 months|       credit_card|  feb-2010|debt consolidatio...|          rent|       125000|            less1|diageo north america|                1994|           0.0|           0.0|    1_inquiry|          8.0|          7.05|             34.6|            16931.0|                 null|       21.0| fully paid|     17436.05|2010|            worthing|             bn13|         574|\n",
      "|    141234|      122.4|     4000.0|         6.39| 36 months|             other|  apr-2015|    home improvement|      mortgage|        91000|           10plus| supervisor engineer|                1999|           0.0|           2.0|   no_inquiry|         24.0|          14.7|             79.3|            10313.0|             161124.0|       36.0| fully paid|      4135.68|2015|       cheshire east|             wa16|         542|\n",
      "|    362041|     525.17|    15000.0|         15.7| 36 months|debt_consolidation|  feb-2010|  debt consolodation|          rent|        84996|            less1|                null|                1995|           0.0|           0.0|    1_inquiry|         16.0|         20.44|             56.7|            28511.0|                 null|       32.0| fully paid|      17709.2|2010|     epsom and ewell|             kt17|         631|\n",
      "|    367971|     311.02|    10000.0|         7.49| 36 months|             other|  may-2011|credit card refin...|      mortgage|        42000|             1to3|           wackenhut|                1991|           0.0|           0.0|   no_inquiry|          4.0|          0.71|              1.0|               84.0|                 null|       18.0| fully paid|11178.5017532|2011|           sheffield|               s6|         378|\n",
      "|    418516|     327.79|    10950.0|        25.99| 60 months|debt_consolidation|  jan-2015|credit card/auto ...|          rent|        40000|             1to3| route sales manager|                2006|           0.0|           1.0|2plus_inquiry|         27.0|         28.14|             20.3|             3568.0|              99863.0|       36.0| fully paid|     11005.34|2015|    south derbyshire|             de11|         518|\n",
      "+----------+-----------+-----------+-------------+----------+------------------+----------+--------------------+--------------+-------------+-----------------+--------------------+--------------------+--------------+--------------+-------------+-------------+--------------+-----------------+-------------------+---------------------+-----------+-----------+-------------+----+--------------------+-----------------+------------+\n",
      "only showing top 20 rows\n",
      "\n"
     ]
    }
   ],
   "source": [
    "data.show()"
   ]
  }
 ],
 "metadata": {
  "kernelspec": {
   "display_name": "Python 3",
   "language": "python",
   "name": "python3"
  },
  "language_info": {
   "codemirror_mode": {
    "name": "ipython",
    "version": 3
   },
   "file_extension": ".py",
   "mimetype": "text/x-python",
   "name": "python",
   "nbconvert_exporter": "python",
   "pygments_lexer": "ipython3",
   "version": "3.7.7"
  },
  "latex_envs": {
   "LaTeX_envs_menu_present": true,
   "autoclose": false,
   "autocomplete": true,
   "bibliofile": "biblio.bib",
   "cite_by": "apalike",
   "current_citInitial": 1,
   "eqLabelWithNumbers": true,
   "eqNumInitial": 1,
   "hotkeys": {
    "equation": "Ctrl-E",
    "itemize": "Ctrl-I"
   },
   "labels_anchors": false,
   "latex_user_defs": false,
   "report_style_numbering": false,
   "user_envs_cfg": false
  },
  "varInspector": {
   "cols": {
    "lenName": 16,
    "lenType": 16,
    "lenVar": 40
   },
   "kernels_config": {
    "python": {
     "delete_cmd_postfix": "",
     "delete_cmd_prefix": "del ",
     "library": "var_list.py",
     "varRefreshCmd": "print(var_dic_list())"
    },
    "r": {
     "delete_cmd_postfix": ") ",
     "delete_cmd_prefix": "rm(",
     "library": "var_list.r",
     "varRefreshCmd": "cat(var_dic_list()) "
    }
   },
   "types_to_exclude": [
    "module",
    "function",
    "builtin_function_or_method",
    "instance",
    "_Feature"
   ],
   "window_display": false
  }
 },
 "nbformat": 4,
 "nbformat_minor": 4
}
